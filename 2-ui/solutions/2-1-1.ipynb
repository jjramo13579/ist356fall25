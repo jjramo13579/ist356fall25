{
 "cells": [
  {
   "cell_type": "markdown",
   "id": "1d0c0109",
   "metadata": {},
   "source": []
  },
  {
   "cell_type": "code",
   "execution_count": null,
   "id": "795625ab",
   "metadata": {},
   "outputs": [
    {
     "data": {
      "application/vnd.jupyter.widget-view+json": {
       "model_id": "00d88c022b6b4af794a681d36ab60677",
       "version_major": 2,
       "version_minor": 0
      },
      "text/plain": [
       "interactive(children=(Text(value='', continuous_update=False, description='name'), Dropdown(description='major…"
      ]
     },
     "metadata": {},
     "output_type": "display_data"
    }
   ],
   "source": [
    "from IPython.display import display\n",
    "from ipywidgets import interact_manual\n",
    "\n",
    "@interact_manual(name = '', major =[\"IMT\", \"IST\", \"ADA\"], gpa=(0.0, 4.0, 0.05))\n",
    "def onclick(name, major, gpa):\n",
    "    if gpa<1.8:\n",
    "        status = \"probation\"\n",
    "    elif gpa > 3.4:\n",
    "        status = \"deans list\"\n",
    "    else:\n",
    "        status = \"no list\"\n",
    "    display(f\"{name} in {major} with a {gpa} is on {status}\")\n"
   ]
  }
 ],
 "metadata": {
  "kernelspec": {
   "display_name": "Python 3",
   "language": "python",
   "name": "python3"
  },
  "language_info": {
   "codemirror_mode": {
    "name": "ipython",
    "version": 3
   },
   "file_extension": ".py",
   "mimetype": "text/x-python",
   "name": "python",
   "nbconvert_exporter": "python",
   "pygments_lexer": "ipython3",
   "version": "3.11.0"
  }
 },
 "nbformat": 4,
 "nbformat_minor": 5
}
